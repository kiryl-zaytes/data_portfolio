{
 "cells": [
  {
   "cell_type": "markdown",
   "metadata": {},
   "source": [
    "### Analyzing the Stroop Effect\n",
    "Perform the analysis in the space below. Remember to follow [the instructions](https://docs.google.com/document/d/1-OkpZLjG_kX9J6LIQ5IltsqMzVWjh36QpnP2RYpVdPU/pub?embedded=True) and review the [project rubric](https://review.udacity.com/#!/rubrics/71/view) before submitting. Once you've completed the analysis and write up, download this file as a PDF or HTML file and submit in the next section.\n",
    "\n",
    "\n",
    "(1) What is the independent variable? What is the dependent variable?\n"
   ]
  },
  {
   "cell_type": "markdown",
   "metadata": {},
   "source": [
    "Based on description there are two variables: condition and time. Since we want to observe differences in time values for people from different groups (conditions) **the time is dependent variable** and **condition is not**."
   ]
  },
  {
   "cell_type": "markdown",
   "metadata": {},
   "source": [
    "(2) What is an appropriate set of hypotheses for this task? What kind of statistical test do you expect to perform? Justify your choices."
   ]
  },
  {
   "cell_type": "markdown",
   "metadata": {},
   "source": [
    "a. Color words whose names match the colors takes less time to recognise as opposed to those whose names and colors dont match.     \n",
    "Without taking a look at data and based only on description we would have only 2 vars so our hypothesis would be as follows:\n",
    "\n",
    "H$_{0}$: Recognition of words with colors that dont match their names takes same amount of time as for those whose names do match the colors.\n",
    "H$_{1}$ It is reasonable to conclude that the one needs more time to recognise the color if color and text dont match.\n",
    "\n",
    "We are given observation of participants and their time for both experiments. To support or reject our hypothesizes we will be looking into population **means (µ$_{inc}$ - Incongruent group , µ$_{con}$ - Congruent group)**.\n",
    "\n",
    "H$_{0}$: µ$_{inc}$ = µ$_{con}$    \n",
    "H$_{1}$: µ$_{inc}$ >  µ$_{con}$ \n",
    "\n",
    "We can rewrite equation as difference in means of both groups:    \n",
    "H$_{0}$: µ$_{inc}$ - µ$_{con}$ = 0    \n",
    "H$_{1}$: µ$_{inc}$ - µ$_{con}$ > 0    \n",
    "\n",
    "b. Since each participant go through both tests and we have two samples (related) for each user it makes sense to compare their diffirence and get mean value of it to see if it is statistically significant. That is exactly what paired T-test does. \n"
   ]
  },
  {
   "cell_type": "code",
   "execution_count": 2,
   "metadata": {},
   "outputs": [
    {
     "name": "stdout",
     "output_type": "stream",
     "text": [
      "<class 'pandas.core.frame.DataFrame'>\n",
      "RangeIndex: 24 entries, 0 to 23\n",
      "Data columns (total 2 columns):\n",
      "Congruent      24 non-null float64\n",
      "Incongruent    24 non-null float64\n",
      "dtypes: float64(2)\n",
      "memory usage: 464.0 bytes\n"
     ]
    }
   ],
   "source": [
    "import pandas as pd\n",
    "df = pd.read_csv(\"stroopdata.csv\")\n",
    "df.info()"
   ]
  },
  {
   "cell_type": "markdown",
   "metadata": {},
   "source": [
    "We are provided with 24 rows here and it is not an entire population of course, that is just a sample and to generalize to entire popolation we will need to use sample standard deviation and random sampling.\n",
    "\n",
    "(3) Report some descriptive statistics regarding this dataset. Include at least one measure of central tendency and at least one measure of variability. The name of the data file is 'stroopdata.csv'."
   ]
  },
  {
   "cell_type": "code",
   "execution_count": 3,
   "metadata": {},
   "outputs": [],
   "source": [
    "# Perform the analysis here\n",
    "cong_mean = df['Congruent'].mean()\n",
    "cong_std = df['Congruent'].std(ddof=1)\n",
    "cong_med = df['Congruent'].median()\n",
    "incong_mean = df['Incongruent'].mean()\n",
    "incong_std = df['Incongruent'].std(ddof=1)\n",
    "incong_med = df['Incongruent'].median()"
   ]
  },
  {
   "cell_type": "code",
   "execution_count": 4,
   "metadata": {},
   "outputs": [
    {
     "name": "stdout",
     "output_type": "stream",
     "text": [
      "Congruent mean 14.051124999999999, median 14.3565, std 3.5593579576451955 \n",
      "Incongruent mean 22.015916666666666, median 21.0175, std 4.797057122469138\n"
     ]
    },
    {
     "data": {
      "text/html": [
       "<div>\n",
       "<style>\n",
       "    .dataframe thead tr:only-child th {\n",
       "        text-align: right;\n",
       "    }\n",
       "\n",
       "    .dataframe thead th {\n",
       "        text-align: left;\n",
       "    }\n",
       "\n",
       "    .dataframe tbody tr th {\n",
       "        vertical-align: top;\n",
       "    }\n",
       "</style>\n",
       "<table border=\"1\" class=\"dataframe\">\n",
       "  <thead>\n",
       "    <tr style=\"text-align: right;\">\n",
       "      <th></th>\n",
       "      <th>Congruent</th>\n",
       "      <th>Incongruent</th>\n",
       "    </tr>\n",
       "  </thead>\n",
       "  <tbody>\n",
       "    <tr>\n",
       "      <th>0</th>\n",
       "      <td>12.079</td>\n",
       "      <td>19.278</td>\n",
       "    </tr>\n",
       "    <tr>\n",
       "      <th>1</th>\n",
       "      <td>16.791</td>\n",
       "      <td>18.741</td>\n",
       "    </tr>\n",
       "    <tr>\n",
       "      <th>2</th>\n",
       "      <td>9.564</td>\n",
       "      <td>21.214</td>\n",
       "    </tr>\n",
       "    <tr>\n",
       "      <th>3</th>\n",
       "      <td>8.630</td>\n",
       "      <td>15.687</td>\n",
       "    </tr>\n",
       "    <tr>\n",
       "      <th>4</th>\n",
       "      <td>14.669</td>\n",
       "      <td>22.803</td>\n",
       "    </tr>\n",
       "  </tbody>\n",
       "</table>\n",
       "</div>"
      ],
      "text/plain": [
       "   Congruent  Incongruent\n",
       "0     12.079       19.278\n",
       "1     16.791       18.741\n",
       "2      9.564       21.214\n",
       "3      8.630       15.687\n",
       "4     14.669       22.803"
      ]
     },
     "execution_count": 4,
     "metadata": {},
     "output_type": "execute_result"
    }
   ],
   "source": [
    "print(\"Congruent mean {}, median {}, std {} \".format(cong_mean, cong_med, cong_std))\n",
    "print(\"Incongruent mean {}, median {}, std {}\".format(incong_mean, incong_med, incong_std))\n",
    "df.head()"
   ]
  },
  {
   "cell_type": "markdown",
   "metadata": {},
   "source": [
    "For Congruent group mean is a bit less than median so means distribution could be right skewed.\n",
    "As for Incongruent mean > median and distribution likely left skewed."
   ]
  },
  {
   "cell_type": "code",
   "execution_count": 5,
   "metadata": {},
   "outputs": [
    {
     "data": {
      "text/plain": [
       "7.9647916666666667"
      ]
     },
     "execution_count": 5,
     "metadata": {},
     "output_type": "execute_result"
    }
   ],
   "source": [
    "sample_mean_diff = incong_mean - cong_mean\n",
    "sample_mean_diff"
   ]
  },
  {
   "cell_type": "code",
   "execution_count": 71,
   "metadata": {},
   "outputs": [
    {
     "data": {
      "text/plain": [
       "(22.328000000000003, 35.255000000000003)"
      ]
     },
     "execution_count": 71,
     "metadata": {},
     "output_type": "execute_result"
    }
   ],
   "source": [
    "df['Congruent'].max(), df['Incongruent'].max()"
   ]
  },
  {
   "cell_type": "markdown",
   "metadata": {},
   "source": [
    "(4) Provide one or two visualizations that show the distribution of the sample data. Write one or two sentences noting what you observe about the plot or plots."
   ]
  },
  {
   "cell_type": "code",
   "execution_count": 108,
   "metadata": {},
   "outputs": [
    {
     "data": {
      "text/plain": [
       "Text(0,0.5,'Number of participants')"
      ]
     },
     "execution_count": 108,
     "metadata": {},
     "output_type": "execute_result"
    },
    {
     "data": {
      "image/png": "[encoded data removed]",
      "text/plain": [
       "<matplotlib.figure.Figure at 0x7fe0363dc048>"
      ]
     },
     "metadata": {},
     "output_type": "display_data"
    }
   ],
   "source": [
    "import matplotlib.pyplot as plt\n",
    "%matplotlib inline\n",
    "fig, (ax1,ax2) = plt.subplots(nrows=2, sharey=True, figsize=(15, 10))\n",
    "fig.suptitle(\"Distribution of participants over the time spent to recognize color\")\n",
    "ax1.hist(df['Congruent'], [5, 7, 8.5, 9.5, 10, 12,13,15, 16,17, 19, 21, 23, 24, 35])\n",
    "ax1.set_xlabel(\"Seconds\")\n",
    "ax1.set_ylabel(\"Number of participants\")\n",
    "ax2.hist(df['Incongruent'], [5, 15, 16, 17, 18, 19, 20,21, 23, 24,25,26, 27, 28, 30, 35])\n",
    "ax2.set_xlabel(\"Seconds\")\n",
    "ax2.set_ylabel(\"Number of participants\")"
   ]
  },
  {
   "cell_type": "markdown",
   "metadata": {},
   "source": [
    "First distribution (congurent) looks like left skewed and second is right skewed. There is a big gap between them and values in second chart looks greater in values fo seconds than the first one."
   ]
  },
  {
   "cell_type": "markdown",
   "metadata": {},
   "source": [
    "(5) Now, perform the statistical test and report the results. What is the confidence level and your critical statistic value? Do you reject the null hypothesis or fail to reject it? Come to a conclusion in terms of the experiment task. Did the results match up with your expectations?\n",
    "\n",
    "We have two related samples and we are going to measure how average value is different across samples. This test called paired T-test and it will help us to accept or reject hypothesis that time to recognise colors is the same for both groups."
   ]
  },
  {
   "cell_type": "code",
   "execution_count": 109,
   "metadata": {},
   "outputs": [
    {
     "data": {
      "text/plain": [
       "Ttest_relResult(statistic=8.020706944109957, pvalue=4.1030005857111781e-08)"
      ]
     },
     "execution_count": 109,
     "metadata": {},
     "output_type": "execute_result"
    }
   ],
   "source": [
    "import scipy.stats as stats\n",
    "stats.stats.ttest_rel(df['Incongruent'], df['Congruent'])"
   ]
  },
  {
   "cell_type": "markdown",
   "metadata": {},
   "source": [
    "We got our statistic value ~ 8.02007 and really low p value 0.00000004 under 0.05 and that means we have strong evidence to reject our null hypothesis: that there is no difference between two groups."
   ]
  },
  {
   "cell_type": "markdown",
   "metadata": {},
   "source": [
    "Another approach to support or reject hypothesis is to bootstrap samples and compare statistic."
   ]
  },
  {
   "cell_type": "code",
   "execution_count": 110,
   "metadata": {},
   "outputs": [],
   "source": [
    "p_diffs = []\n",
    "for _ in range(10000):\n",
    "    sample_cong = df['Congruent'].sample(24, replace = True)\n",
    "    sample_incong = df['Incongruent'].sample(24, replace = True)\n",
    "    p_diffs.append(sample_incong.mean() - sample_cong.mean())"
   ]
  },
  {
   "cell_type": "code",
   "execution_count": 111,
   "metadata": {},
   "outputs": [
    {
     "data": {
      "text/plain": [
       "<matplotlib.lines.Line2D at 0x7fe02d15d128>"
      ]
     },
     "execution_count": 111,
     "metadata": {},
     "output_type": "execute_result"
    },
    {
     "data": {
      "image/png": "[encoded data removed]",
      "text/plain": [
       "<matplotlib.figure.Figure at 0x7fe02d15d160>"
      ]
     },
     "metadata": {},
     "output_type": "display_data"
    }
   ],
   "source": [
    "plt.hist(p_diffs)\n",
    "plt.axvline(x=sample_mean_diff, color='red')"
   ]
  },
  {
   "cell_type": "code",
   "execution_count": 113,
   "metadata": {},
   "outputs": [
    {
     "name": "stdout",
     "output_type": "stream",
     "text": [
      "1.19552734933\n"
     ]
    },
    {
     "data": {
      "text/plain": [
       "<matplotlib.lines.Line2D at 0x7fe02d0ccda0>"
      ]
     },
     "execution_count": 113,
     "metadata": {},
     "output_type": "execute_result"
    },
    {
     "data": {
      "image/png": "[encoded data removed]",
      "text/plain": [
       "<matplotlib.figure.Figure at 0x7fe02d0ccef0>"
      ]
     },
     "metadata": {},
     "output_type": "display_data"
    }
   ],
   "source": [
    "import numpy as np\n",
    "p_diffs = np.array(p_diffs)\n",
    "print(p_diffs.std())\n",
    "null_v = np.random.normal(0, p_diffs.std(), p_diffs.size)\n",
    "plt.hist(null_v)\n",
    "plt.axvline(x=sample_mean_diff, color='red')"
   ]
  },
  {
   "cell_type": "markdown",
   "metadata": {},
   "source": [
    "Statistic is not from the null hypothesis and we have to reject H$_{0}$ in favour of H$_{1}$."
   ]
  }
 ],
 "metadata": {
  "kernelspec": {
   "display_name": "Python 3",
   "language": "python",
   "name": "python3"
  },
  "language_info": {
   "codemirror_mode": {
    "name": "ipython",
    "version": 3
   },
   "file_extension": ".py",
   "mimetype": "text/x-python",
   "name": "python",
   "nbconvert_exporter": "python",
   "pygments_lexer": "ipython3",
   "version": "3.6.3"
  }
 },
 "nbformat": 4,
 "nbformat_minor": 2
}
