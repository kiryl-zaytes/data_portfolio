{
 "cells": [
  {
   "cell_type": "markdown",
   "metadata": {},
   "source": [
    "## We Rate Dogs\n",
    "\n",
    "The idea was to get data from Twitter's \"WeRateDogs\" channel and using results from machine learning processing algorithm to combine them to have even more details to build analysis on. Missing link here was absence of metrics as \"likes or favorites\" count and also how many times tweet has been retweeted. Those features would give us ground to find most popular breed, or most interesting picture or even idea which day is better to make a post to be given greater amount of likes.\n",
    "\n",
    "To warm up lets imagine that the one may be curious about which breed is widely represented in community (those who use the channel), do users prefer any particular breed over the others or maybe there is a cult of followers of chosen one."
   ]
  },
  {
   "cell_type": "markdown",
   "metadata": {},
   "source": [
    "<img src=\"files/output_140_0.png\">"
   ]
  },
  {
   "cell_type": "markdown",
   "metadata": {},
   "source": [
    "Here you go! What we are seeing is subscribers posted \"Golden Retriever\" more than any other dog seen in the channel. Furthermore the next to Golden Retriever is Labrador Retriever. I dont have deep knowledge in a dog domain but I think these two are from one \"family\". Third most popular is \"Pembroke\". This popularity is based on total count of tweets made by users but it does not show real \"potential\" of each breed. Being posted more times than others does not mean getting more likes and be famous.\n",
    "\n",
    "Having known breeds distribution lets find out which direction more likes and re-tweets go. We will try compare if amount of likes follows the same patterns as count distribution and re-tweets. Had the breed gotten many likes would have been reposted respectively ?\n",
    "\n",
    "\n",
    "<img src=\"files/output_152_0.png\">"
   ]
  },
  {
   "cell_type": "markdown",
   "metadata": {},
   "source": [
    "Interesting fact that our Golden Retriever fell several down and no longer looks so promising. Labrador Retriever also did not manage to keep its position. So who our new champions are ? French Bulldog reached a peak in getting most more likes on average than others but unfortunately it has been reposted that many times as liked. English Springer took first in re-tweets nomination. Second place in both nomination takes... WeeebSite. We already mentioned that web site rows are dogs wrongly recognized after processing. In many place both plots mimic each other so gives us a some sense of correlation between parameters which is expected.\n",
    "\n",
    "Speaking of custom rating system would be great seeing how good subscribers are in setting rating to their pets. I transformed rating system to simple one so it would be easy to see groups. Do you think the greater rating one set to his pet the greater amount of like he receives ? Or maybe vice versa? or it does not make any difference ? Lets look into ratings then.\n",
    "\n",
    "<img src=\"files/output_153_0.png\">"
   ]
  },
  {
   "cell_type": "markdown",
   "metadata": {},
   "source": [
    "Yep, we were very close to the right answer: as subscribers rating grows the number of like growth as well! Until it reaches 1.4 (14/10) threshold. It seems like ratings have touch with reality.\n",
    "\n",
    "**To recap our findings here is the list:**\n",
    "\n",
    "   - a. The most popular breed posted in the channel was Golden Retriever, next ones were Labrador Retriever and Pembroke. Golden Retrievers were given in total greatest amount of likes (1693172) and were retweeted more than others breeds.    \n",
    "    \n",
    "   - b. Among breeds with reasonable amount of recognitions and confidence on average more likes received by French Bulldog as well as more retweets made.    \n",
    "\n",
    "   - c. Most liked(144168) dog was puppo from Toronto https://twitter.com/dog_rates/status/822872901745569793/photo/1 and of course this is not Lakeland Terrier as mentioned in data so confidence level clearly shows.\n",
    "    FrenchBulldog, WebSite and Flat-coated Retriever are next most popular. It worth looking/fixing/checking related images to see what WebSite is.    \n",
    "\n",
    "   - d. Labrador Retriever without name was the most retweeted(78211) dog within set.    \n",
    "\n",
    "   - e. On average English Springer retweeted more than others breeds.    \n",
    "\n",
    "   - f. Soft_coaten Wheaten terrier received less like than others.    \n",
    "\n",
    "   - g. There is a rising trend between the ratings people set to their dogs and amount of likes they receive. It fades away after 1.4 (14) mark reached.   \n"
   ]
  }
 ],
 "metadata": {
  "kernelspec": {
   "display_name": "Python 3",
   "language": "python",
   "name": "python3"
  },
  "language_info": {
   "codemirror_mode": {
    "name": "ipython",
    "version": 3
   },
   "file_extension": ".py",
   "mimetype": "text/x-python",
   "name": "python",
   "nbconvert_exporter": "python",
   "pygments_lexer": "ipython3",
   "version": "3.6.4"
  },
  "toc": {
   "nav_menu": {},
   "number_sections": true,
   "sideBar": true,
   "skip_h1_title": false,
   "title_cell": "Table of Contents",
   "title_sidebar": "Contents",
   "toc_cell": false,
   "toc_position": {},
   "toc_section_display": true,
   "toc_window_display": false
  }
 },
 "nbformat": 4,
 "nbformat_minor": 2
}
